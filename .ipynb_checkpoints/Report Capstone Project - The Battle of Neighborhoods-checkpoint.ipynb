{
 "cells": [
  {
   "cell_type": "markdown",
   "metadata": {},
   "source": [
    "# Report Capstone Project - The Battle of Neighborhoods "
   ]
  },
  {
   "cell_type": "markdown",
   "metadata": {},
   "source": [
    "## Introduction/Problem"
   ]
  },
  {
   "cell_type": "markdown",
   "metadata": {},
   "source": [
    "Yesterday I received an email from an entrepreneur. He came up with the idea that he wanted to open a bar in New York. At the moment there are already many different bars in New York. This therefore ensures a good number of competition. To outsmart the competition, the entrepreneur was looking for the most suitable location. The entrepreneur was already thinking of questions such as: are there hotels nearby? how many other bars are there in the area? are there other places of entertainment nearby?\n",
    "\n",
    "The aim of this project is therefore to find the best location for the entrepreneur, where the competition is as low as possible (not too many bars in that area) and where there are hotels and other places of entertainment nearby.\n",
    "\n",
    "The entrepreneur mentioned that he wanted to open his bar in Queens (borough). This is because he lives there and he doenst want to drive far to get to his own business. So for this project the scope will be Queens and within Queens the most suitable location will be selected for the entrepreneur. \n",
    "\n",
    "It is the largest borough geographically and is adjacent to the borough of Brooklyn, at the western end of Long Island. To its east is Nassau County. Queens also shares water borders with the boroughs of Manhattan, the Bronx, and Staten Island (via the Rockaways). The borough of Queens is the second-largest in population. \n",
    "\n",
    "Queens has the most diversified economy of the five boroughs of New York City. It is home to John F. Kennedy International Airport and LaGuardia Airport, both among the world's busiest, which in turn makes the airspace above Queens among the busiest in the United States. Landmarks in Queens include Flushing Meadows–Corona Park; Citi Field, home to the New York Mets baseball team; the USTA Billie Jean King National Tennis Center, site of the US Open tennis tournament; Kaufman Astoria Studios; Silvercup Studios; and Aqueduct Racetrack."
   ]
  },
  {
   "cell_type": "markdown",
   "metadata": {},
   "source": [
    "## Data needed for project"
   ]
  },
  {
   "cell_type": "markdown",
   "metadata": {},
   "source": [
    "We will need data about different venues in New York City in the neighborhoods of Queens. In order to gain that information we will use \"Foursquare\". Foursquare is a location data provider with information about all manner of venues and events within an area of interest. Such information includes venue names, locations, menus and even photos. As such, the foursquare location platform will be used as the sole data source since all the stated required information can be obtained through the API.\n",
    "\n",
    "The data retrieved from Foursquare contains information about venues within Queens. The information obtained per venue is as follows:\n",
    "\n",
    "1. Neighborhood\n",
    "2. Name of the venue e.g. the name of a store or restaurant\n",
    "3. Venue Latitude\n",
    "4. Venue Longitude\n",
    "5. Venue Category\n",
    "\n",
    "This data will be used to find the best suitable location for the entrepreneur. (See introduction)"
   ]
  },
  {
   "cell_type": "markdown",
   "metadata": {},
   "source": [
    "## Methodology"
   ]
  },
  {
   "cell_type": "markdown",
   "metadata": {},
   "source": [
    "In this project i directed my efforts on detecting neighbourhoods in Queens where the percentage of bars against hotels/other venues isn't to high. \n",
    "\n",
    "First i got the data that i needed from Foursquare. This is data about bars in the area around Queens, data about hotels in the area around Queens and data about other venues in Queens. I plotted the data on Folium maps to see where the most dense areas where. I first made a map for every category apart from each other. That includes a map of all the hotels, all the bars and all the other venues. After that i combined those maps to get an insight in where the most crowded areas are. \n",
    "\n",
    "After that i combined the data to see in which neighbourhoods the most hotels/bars/othervenues where. Then i calculated the percentage of bars against the total of venues in that area to see which area had the least percentage of bars. "
   ]
  },
  {
   "cell_type": "markdown",
   "metadata": {},
   "source": [
    "## Results\n",
    "The results showed that Flushing had the least percentage of bars with 8,5% after that Fresh Meadows with 9,4% and Jamaica with 9,5%. Also the results showed that Bayside is already a very crowded area with a total of 34.7% of bars against total venues. \n",
    "\n",
    "The only thing is that Flushing (even though it has the least percentage of bars) still has quite a lot of bars. Where Jamaica has not  a lot of bars but it also doesnt have as much hotels and other venues then Flushing."
   ]
  },
  {
   "cell_type": "markdown",
   "metadata": {},
   "source": [
    "## Discussion\n",
    "The results showed that Flushing has the least percentage but it still has a lot of bars compared to Jamaica, so now is the choice for the entrepreneur do you want to have the least percentage or do you take Jamaice with only 1% difference but way less bars. The thing is Jamaica also has way less other venues and hotels. If i was the Entrepreneur i would go for Flushing even though there are 25 bars there it still has the best percentage and because of the many other venues and other hotels it has to offer it will bring a lot of people in that area."
   ]
  },
  {
   "cell_type": "markdown",
   "metadata": {},
   "source": [
    "## Conclusion\n",
    "The purpose of this project was to find the best place for the entrepreneur. We found the best places and gave him an option to think about. He now only needs to make the choice between least percentage but already quite a few bars in the neighbourhood or start in a less crowded neighbourhood where there are less bars but also less other venues. The final choice has to be made by the entrepreneur. I made sure he found the best spots in Queens. \n",
    "\n",
    "This also could help other entrepreneurs to see where the best neighbourhoods are to start a new bar. "
   ]
  },
  {
   "cell_type": "code",
   "execution_count": null,
   "metadata": {},
   "outputs": [],
   "source": []
  }
 ],
 "metadata": {
  "kernelspec": {
   "display_name": "Python 3",
   "language": "python",
   "name": "python3"
  },
  "language_info": {
   "codemirror_mode": {
    "name": "ipython",
    "version": 3
   },
   "file_extension": ".py",
   "mimetype": "text/x-python",
   "name": "python",
   "nbconvert_exporter": "python",
   "pygments_lexer": "ipython3",
   "version": "3.7.1"
  },
  "toc": {
   "base_numbering": 1,
   "nav_menu": {},
   "number_sections": true,
   "sideBar": true,
   "skip_h1_title": false,
   "title_cell": "Table of Contents",
   "title_sidebar": "Contents",
   "toc_cell": false,
   "toc_position": {},
   "toc_section_display": true,
   "toc_window_display": false
  },
  "varInspector": {
   "cols": {
    "lenName": 16,
    "lenType": 16,
    "lenVar": 40
   },
   "kernels_config": {
    "python": {
     "delete_cmd_postfix": "",
     "delete_cmd_prefix": "del ",
     "library": "var_list.py",
     "varRefreshCmd": "print(var_dic_list())"
    },
    "r": {
     "delete_cmd_postfix": ") ",
     "delete_cmd_prefix": "rm(",
     "library": "var_list.r",
     "varRefreshCmd": "cat(var_dic_list()) "
    }
   },
   "types_to_exclude": [
    "module",
    "function",
    "builtin_function_or_method",
    "instance",
    "_Feature"
   ],
   "window_display": false
  }
 },
 "nbformat": 4,
 "nbformat_minor": 2
}
