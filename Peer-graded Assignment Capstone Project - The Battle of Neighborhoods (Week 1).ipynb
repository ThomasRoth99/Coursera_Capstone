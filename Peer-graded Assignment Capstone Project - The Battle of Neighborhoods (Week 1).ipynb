{
 "cells": [
  {
   "cell_type": "markdown",
   "metadata": {},
   "source": [
    "# Peer-graded Assignment Capstone Project - The Battle of Neighborhoods (Week 1)"
   ]
  },
  {
   "cell_type": "markdown",
   "metadata": {},
   "source": [
    "## Introduction/Problem (Introduction/Business Problem section)"
   ]
  },
  {
   "cell_type": "markdown",
   "metadata": {},
   "source": [
    "Yesterday I received an email from an entrepreneur. He came up with the idea that he wanted to open a bar in New York. At the moment there are already many different bars in New York. This therefore ensures a good number of competition. To outsmart the competition, the entrepreneur was looking for the most suitable location. The entrepreneur was already thinking of questions such as: are there hotels nearby? how many other bars are there in the area? are there other places of entertainment nearby?\n",
    "\n",
    "The aim of this project is therefore to find the best location for the entrepreneur, where the competition is as low as possible (not too many bars in that area) and where there are hotels and other places of entertainment nearby."
   ]
  },
  {
   "cell_type": "markdown",
   "metadata": {},
   "source": [
    "## Location"
   ]
  },
  {
   "cell_type": "markdown",
   "metadata": {},
   "source": [
    "The entrepreneur mentioned that he wanted to open his bar in Queens (borough). This is because he lives there and he doenst want to drive far to get to his own business. So for this project the scope will be Queens and within Queens the most suitable location will be selected for the entrepreneur. \n",
    "\n",
    "It is the largest borough geographically and is adjacent to the borough of Brooklyn, at the western end of Long Island. To its east is Nassau County. Queens also shares water borders with the boroughs of Manhattan, the Bronx, and Staten Island (via the Rockaways). The borough of Queens is the second-largest in population. \n",
    "\n",
    "Queens has the most diversified economy of the five boroughs of New York City. It is home to John F. Kennedy International Airport and LaGuardia Airport, both among the world's busiest, which in turn makes the airspace above Queens among the busiest in the United States. Landmarks in Queens include Flushing Meadows–Corona Park; Citi Field, home to the New York Mets baseball team; the USTA Billie Jean King National Tennis Center, site of the US Open tennis tournament; Kaufman Astoria Studios; Silvercup Studios; and Aqueduct Racetrack."
   ]
  },
  {
   "cell_type": "markdown",
   "metadata": {},
   "source": [
    "## Data needed for project (Data section)"
   ]
  },
  {
   "cell_type": "markdown",
   "metadata": {},
   "source": [
    "We will need data about different venues in New York City in the neighborhoods of Queens. In order to gain that information we will use \"Foursquare\". Foursquare is a location data provider with information about all manner of venues and events within an area of interest. Such information includes venue names, locations, menus and even photos. As such, the foursquare location platform will be used as the sole data source since all the stated required information can be obtained through the API.\n",
    "\n",
    "The data retrieved from Foursquare contains information about venues within Queens. The information obtained per venue is as follows:\n",
    "\n",
    "1. Neighborhood\n",
    "2. Name of the venue e.g. the name of a store or restaurant\n",
    "3. Venue Latitude\n",
    "4. Venue Longitude\n",
    "5. Venue Category\n",
    "\n",
    "This data will be used to find the best suitable location for the entrepreneur. (See introduction)"
   ]
  },
  {
   "cell_type": "markdown",
   "metadata": {},
   "source": [
    "## Getting Data from the API and creating a dataframe with it"
   ]
  },
  {
   "cell_type": "code",
   "execution_count": 41,
   "metadata": {
    "ExecuteTime": {
     "end_time": "2020-03-10T11:28:10.541966Z",
     "start_time": "2020-03-10T11:28:10.538948Z"
    }
   },
   "outputs": [],
   "source": [
    "import json, requests\n",
    "import pandas as pd\n",
    "from pandas.io.json import json_normalize"
   ]
  },
  {
   "cell_type": "code",
   "execution_count": 42,
   "metadata": {
    "ExecuteTime": {
     "end_time": "2020-03-10T11:28:11.985209Z",
     "start_time": "2020-03-10T11:28:11.570994Z"
    }
   },
   "outputs": [],
   "source": [
    "url = 'https://api.foursquare.com/v2/venues/explore'\n",
    "\n",
    "params = dict(\n",
    "  client_id=*******,\n",
    "  client_secret=******,\n",
    "  v='20180323',\n",
    "  ll='40.742054, -73.769417',\n",
    "#   query='Bar',\n",
    "  limit=5\n",
    ")\n",
    "resp = requests.get(url=url, params=params)\n",
    "results = json.loads(resp.text)"
   ]
  },
  {
   "cell_type": "code",
   "execution_count": 59,
   "metadata": {
    "ExecuteTime": {
     "end_time": "2020-03-10T11:35:13.195931Z",
     "start_time": "2020-03-10T11:35:13.185957Z"
    }
   },
   "outputs": [],
   "source": [
    "venues = results['response']['groups'][0]['items']\n",
    "nearby_venues = json_normalize(venues)"
   ]
  },
  {
   "cell_type": "code",
   "execution_count": 60,
   "metadata": {
    "ExecuteTime": {
     "end_time": "2020-03-10T11:35:13.775913Z",
     "start_time": "2020-03-10T11:35:13.754970Z"
    }
   },
   "outputs": [
    {
     "data": {
      "text/html": [
       "<div>\n",
       "<style scoped>\n",
       "    .dataframe tbody tr th:only-of-type {\n",
       "        vertical-align: middle;\n",
       "    }\n",
       "\n",
       "    .dataframe tbody tr th {\n",
       "        vertical-align: top;\n",
       "    }\n",
       "\n",
       "    .dataframe thead th {\n",
       "        text-align: right;\n",
       "    }\n",
       "</style>\n",
       "<table border=\"1\" class=\"dataframe\">\n",
       "  <thead>\n",
       "    <tr style=\"text-align: right;\">\n",
       "      <th></th>\n",
       "      <th>name</th>\n",
       "      <th>categories</th>\n",
       "      <th>lat</th>\n",
       "      <th>lng</th>\n",
       "    </tr>\n",
       "  </thead>\n",
       "  <tbody>\n",
       "    <tr>\n",
       "      <th>0</th>\n",
       "      <td>Cunningham Park North Woods Mountain Bike Trails</td>\n",
       "      <td>Bike Trail</td>\n",
       "      <td>40.742346</td>\n",
       "      <td>-73.765238</td>\n",
       "    </tr>\n",
       "    <tr>\n",
       "      <th>1</th>\n",
       "      <td>Fresh Meadows Pizzeria and Restaurant</td>\n",
       "      <td>Pizza Place</td>\n",
       "      <td>40.737110</td>\n",
       "      <td>-73.778166</td>\n",
       "    </tr>\n",
       "    <tr>\n",
       "      <th>2</th>\n",
       "      <td>Cunningham Park Trail</td>\n",
       "      <td>Trail</td>\n",
       "      <td>40.734473</td>\n",
       "      <td>-73.773975</td>\n",
       "    </tr>\n",
       "    <tr>\n",
       "      <th>3</th>\n",
       "      <td>Sweet Adele's</td>\n",
       "      <td>Snack Place</td>\n",
       "      <td>40.738830</td>\n",
       "      <td>-73.762745</td>\n",
       "    </tr>\n",
       "    <tr>\n",
       "      <th>4</th>\n",
       "      <td>AMC Fresh Meadows 7</td>\n",
       "      <td>Movie Theater</td>\n",
       "      <td>40.741098</td>\n",
       "      <td>-73.784097</td>\n",
       "    </tr>\n",
       "  </tbody>\n",
       "</table>\n",
       "</div>"
      ],
      "text/plain": [
       "                                               name    ...            lng\n",
       "0  Cunningham Park North Woods Mountain Bike Trails    ...     -73.765238\n",
       "1             Fresh Meadows Pizzeria and Restaurant    ...     -73.778166\n",
       "2                             Cunningham Park Trail    ...     -73.773975\n",
       "3                                     Sweet Adele's    ...     -73.762745\n",
       "4                               AMC Fresh Meadows 7    ...     -73.784097\n",
       "\n",
       "[5 rows x 4 columns]"
      ]
     },
     "execution_count": 60,
     "metadata": {},
     "output_type": "execute_result"
    }
   ],
   "source": [
    "# filter columns\n",
    "filtered_columns = ['venue.name', 'venue.categories', 'venue.location.lat', 'venue.location.lng']\n",
    "nearby_venues = nearby_venues.loc[:, filtered_columns]\n",
    "# filter the category for each row\n",
    "nearby_venues['venue.categories'] = nearby_venues.apply(get_category_type, axis=1)\n",
    "# clean columns\n",
    "nearby_venues.columns = [col.split(\".\")[-1] for col in nearby_venues.columns]\n",
    "nearby_venues.head()"
   ]
  }
 ],
 "metadata": {
  "kernelspec": {
   "display_name": "Python 3",
   "language": "python",
   "name": "python3"
  },
  "language_info": {
   "codemirror_mode": {
    "name": "ipython",
    "version": 3
   },
   "file_extension": ".py",
   "mimetype": "text/x-python",
   "name": "python",
   "nbconvert_exporter": "python",
   "pygments_lexer": "ipython3",
   "version": "3.7.1"
  },
  "toc": {
   "base_numbering": 1,
   "nav_menu": {},
   "number_sections": true,
   "sideBar": true,
   "skip_h1_title": false,
   "title_cell": "Table of Contents",
   "title_sidebar": "Contents",
   "toc_cell": false,
   "toc_position": {},
   "toc_section_display": true,
   "toc_window_display": false
  },
  "varInspector": {
   "cols": {
    "lenName": 16,
    "lenType": 16,
    "lenVar": 40
   },
   "kernels_config": {
    "python": {
     "delete_cmd_postfix": "",
     "delete_cmd_prefix": "del ",
     "library": "var_list.py",
     "varRefreshCmd": "print(var_dic_list())"
    },
    "r": {
     "delete_cmd_postfix": ") ",
     "delete_cmd_prefix": "rm(",
     "library": "var_list.r",
     "varRefreshCmd": "cat(var_dic_list()) "
    }
   },
   "types_to_exclude": [
    "module",
    "function",
    "builtin_function_or_method",
    "instance",
    "_Feature"
   ],
   "window_display": false
  }
 },
 "nbformat": 4,
 "nbformat_minor": 2
}
